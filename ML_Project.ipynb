{
 "cells": [
  {
   "cell_type": "markdown",
   "id": "5902c1f3",
   "metadata": {},
   "source": [
    "<img src='http://www-scf.usc.edu/~ghasemig/images/sharif.png' alt=\"SUT logo\" width=200 height=200 align=left class=\"saturate\" >\n",
    "\n",
    "<br>\n",
    "<font face=\"Times New Roman\">\n",
    "<div dir=ltr align=center>\n",
    "<font color=0F5298 size=7>\n",
    "    Introduction to Machine Learning <br>\n",
    "<font color=2565AE size=5>\n",
    "    Computer Engineering Department <br>\n",
    "    Fall 2022<br>\n",
    "<font color=3C99D size=5>\n",
    "    Project <br>\n",
    "<font color=696880 size=4>\n",
    "    Project Team \n",
    "    \n",
    "    \n",
    "____\n"
   ]
  },
  {
   "attachments": {},
   "cell_type": "markdown",
   "id": "5e85f16a",
   "metadata": {},
   "source": [
    "### Full Name : Mohammadreza Mofayezi - Ali Hatami\n",
    "### Student Number : 98106059 - 98101385\n",
    "___"
   ]
  },
  {
   "cell_type": "markdown",
   "id": "40df5e74",
   "metadata": {},
   "source": [
    "# Introduction"
   ]
  },
  {
   "cell_type": "markdown",
   "id": "5a627177",
   "metadata": {},
   "source": [
    "In this project, we are going to have a brief and elementary hands-on real-world project, predicting breast cancer survival using machine learning models with clinical data and gene expression profiles."
   ]
  },
  {
   "cell_type": "markdown",
   "id": "b1e52cbc",
   "metadata": {},
   "source": [
    "# Data Documentation"
   ]
  },
  {
   "cell_type": "markdown",
   "id": "254cb90f",
   "metadata": {
    "ExecuteTime": {
     "end_time": "2023-01-29T19:31:29.604891Z",
     "start_time": "2023-01-29T19:31:29.601061Z"
    }
   },
   "source": [
    "For this purpose, we will use \"Breast Cancer Gene Expression Profiles (METABRIC)\" data. \n",
    "The first 31 columns of data contain clinical information including death status.\n",
    "The next columns of the data contain gene's related information which includes both gene expressions and mutation information. (gene's mutation info columns have been marked with \"_mut\" at the end of the names of the columns) \n",
    "For more information please read the [data documentation](https://www.kaggle.com/datasets/raghadalharbi/breast-cancer-gene-expression-profiles-metabric)."
   ]
  },
  {
   "cell_type": "markdown",
   "id": "9cef1d4a",
   "metadata": {},
   "source": [
    "# Data Preparation (15 Points)"
   ]
  },
  {
   "cell_type": "markdown",
   "id": "f3240d5d",
   "metadata": {},
   "source": [
    "In this section you must first split data into three datasets:\n",
    "<br>\n",
    "1- clinical dataset\n",
    "<br>\n",
    "2- gene expressions dataset\n",
    "<br>\n",
    "3- gene mutation dataset. (We will not use this dataset in further steps of the project)"
   ]
  },
  {
   "cell_type": "markdown",
   "id": "cc42f2b1",
   "metadata": {},
   "source": [
    "## Data Loading & Splitting"
   ]
  },
  {
   "cell_type": "code",
   "execution_count": 2,
   "id": "463b243b",
   "metadata": {},
   "outputs": [],
   "source": [
    "import numpy as np\n",
    "import pandas as pd\n",
    "import seaborn as sns\n",
    "import matplotlib.pyplot as plt\n",
    "\n",
    "df = pd.read_csv('METABRIC_RNA_Mutation.csv', low_memory=False)\n",
    "clinical_dataset = df.iloc[:, :31]\n",
    "gene_expression_dataset = df.iloc[:, 31:520]\n",
    "gene_mutation_dataset = df.iloc[:, 520:]"
   ]
  },
  {
   "cell_type": "markdown",
   "id": "aebfdb6b",
   "metadata": {},
   "source": [
    "## EDA"
   ]
  },
  {
   "cell_type": "markdown",
   "id": "e87d59d7",
   "metadata": {},
   "source": [
    "For each dataset, you must perform a sufficient EDA."
   ]
  },
  {
   "attachments": {},
   "cell_type": "markdown",
   "id": "3b17aba8",
   "metadata": {},
   "source": [
    "### Clinical Dataset"
   ]
  },
  {
   "cell_type": "code",
   "execution_count": 5,
   "id": "18735e7f",
   "metadata": {},
   "outputs": [
    {
     "data": {
      "text/html": [
       "<div>\n",
       "<style scoped>\n",
       "    .dataframe tbody tr th:only-of-type {\n",
       "        vertical-align: middle;\n",
       "    }\n",
       "\n",
       "    .dataframe tbody tr th {\n",
       "        vertical-align: top;\n",
       "    }\n",
       "\n",
       "    .dataframe thead th {\n",
       "        text-align: right;\n",
       "    }\n",
       "</style>\n",
       "<table border=\"1\" class=\"dataframe\">\n",
       "  <thead>\n",
       "    <tr style=\"text-align: right;\">\n",
       "      <th></th>\n",
       "      <th>patient_id</th>\n",
       "      <th>age_at_diagnosis</th>\n",
       "      <th>type_of_breast_surgery</th>\n",
       "      <th>cancer_type</th>\n",
       "      <th>cancer_type_detailed</th>\n",
       "      <th>cellularity</th>\n",
       "      <th>chemotherapy</th>\n",
       "      <th>pam50_+_claudin-low_subtype</th>\n",
       "      <th>cohort</th>\n",
       "      <th>er_status_measured_by_ihc</th>\n",
       "      <th>...</th>\n",
       "      <th>nottingham_prognostic_index</th>\n",
       "      <th>oncotree_code</th>\n",
       "      <th>overall_survival_months</th>\n",
       "      <th>overall_survival</th>\n",
       "      <th>pr_status</th>\n",
       "      <th>radio_therapy</th>\n",
       "      <th>3-gene_classifier_subtype</th>\n",
       "      <th>tumor_size</th>\n",
       "      <th>tumor_stage</th>\n",
       "      <th>death_from_cancer</th>\n",
       "    </tr>\n",
       "  </thead>\n",
       "  <tbody>\n",
       "    <tr>\n",
       "      <th>0</th>\n",
       "      <td>0</td>\n",
       "      <td>75.65</td>\n",
       "      <td>MASTECTOMY</td>\n",
       "      <td>Breast Cancer</td>\n",
       "      <td>Breast Invasive Ductal Carcinoma</td>\n",
       "      <td>NaN</td>\n",
       "      <td>0</td>\n",
       "      <td>claudin-low</td>\n",
       "      <td>1.0</td>\n",
       "      <td>Positve</td>\n",
       "      <td>...</td>\n",
       "      <td>6.044</td>\n",
       "      <td>IDC</td>\n",
       "      <td>140.500000</td>\n",
       "      <td>1</td>\n",
       "      <td>Negative</td>\n",
       "      <td>1</td>\n",
       "      <td>ER-/HER2-</td>\n",
       "      <td>22.0</td>\n",
       "      <td>2.0</td>\n",
       "      <td>Living</td>\n",
       "    </tr>\n",
       "    <tr>\n",
       "      <th>1</th>\n",
       "      <td>2</td>\n",
       "      <td>43.19</td>\n",
       "      <td>BREAST CONSERVING</td>\n",
       "      <td>Breast Cancer</td>\n",
       "      <td>Breast Invasive Ductal Carcinoma</td>\n",
       "      <td>High</td>\n",
       "      <td>0</td>\n",
       "      <td>LumA</td>\n",
       "      <td>1.0</td>\n",
       "      <td>Positve</td>\n",
       "      <td>...</td>\n",
       "      <td>4.020</td>\n",
       "      <td>IDC</td>\n",
       "      <td>84.633333</td>\n",
       "      <td>1</td>\n",
       "      <td>Positive</td>\n",
       "      <td>1</td>\n",
       "      <td>ER+/HER2- High Prolif</td>\n",
       "      <td>10.0</td>\n",
       "      <td>1.0</td>\n",
       "      <td>Living</td>\n",
       "    </tr>\n",
       "    <tr>\n",
       "      <th>2</th>\n",
       "      <td>5</td>\n",
       "      <td>48.87</td>\n",
       "      <td>MASTECTOMY</td>\n",
       "      <td>Breast Cancer</td>\n",
       "      <td>Breast Invasive Ductal Carcinoma</td>\n",
       "      <td>High</td>\n",
       "      <td>1</td>\n",
       "      <td>LumB</td>\n",
       "      <td>1.0</td>\n",
       "      <td>Positve</td>\n",
       "      <td>...</td>\n",
       "      <td>4.030</td>\n",
       "      <td>IDC</td>\n",
       "      <td>163.700000</td>\n",
       "      <td>0</td>\n",
       "      <td>Positive</td>\n",
       "      <td>0</td>\n",
       "      <td>NaN</td>\n",
       "      <td>15.0</td>\n",
       "      <td>2.0</td>\n",
       "      <td>Died of Disease</td>\n",
       "    </tr>\n",
       "    <tr>\n",
       "      <th>3</th>\n",
       "      <td>6</td>\n",
       "      <td>47.68</td>\n",
       "      <td>MASTECTOMY</td>\n",
       "      <td>Breast Cancer</td>\n",
       "      <td>Breast Mixed Ductal and Lobular Carcinoma</td>\n",
       "      <td>Moderate</td>\n",
       "      <td>1</td>\n",
       "      <td>LumB</td>\n",
       "      <td>1.0</td>\n",
       "      <td>Positve</td>\n",
       "      <td>...</td>\n",
       "      <td>4.050</td>\n",
       "      <td>MDLC</td>\n",
       "      <td>164.933333</td>\n",
       "      <td>1</td>\n",
       "      <td>Positive</td>\n",
       "      <td>1</td>\n",
       "      <td>NaN</td>\n",
       "      <td>25.0</td>\n",
       "      <td>2.0</td>\n",
       "      <td>Living</td>\n",
       "    </tr>\n",
       "    <tr>\n",
       "      <th>4</th>\n",
       "      <td>8</td>\n",
       "      <td>76.97</td>\n",
       "      <td>MASTECTOMY</td>\n",
       "      <td>Breast Cancer</td>\n",
       "      <td>Breast Mixed Ductal and Lobular Carcinoma</td>\n",
       "      <td>High</td>\n",
       "      <td>1</td>\n",
       "      <td>LumB</td>\n",
       "      <td>1.0</td>\n",
       "      <td>Positve</td>\n",
       "      <td>...</td>\n",
       "      <td>6.080</td>\n",
       "      <td>MDLC</td>\n",
       "      <td>41.366667</td>\n",
       "      <td>0</td>\n",
       "      <td>Positive</td>\n",
       "      <td>1</td>\n",
       "      <td>ER+/HER2- High Prolif</td>\n",
       "      <td>40.0</td>\n",
       "      <td>2.0</td>\n",
       "      <td>Died of Disease</td>\n",
       "    </tr>\n",
       "  </tbody>\n",
       "</table>\n",
       "<p>5 rows × 31 columns</p>\n",
       "</div>"
      ],
      "text/plain": [
       "   patient_id  age_at_diagnosis type_of_breast_surgery    cancer_type  \\\n",
       "0           0             75.65             MASTECTOMY  Breast Cancer   \n",
       "1           2             43.19      BREAST CONSERVING  Breast Cancer   \n",
       "2           5             48.87             MASTECTOMY  Breast Cancer   \n",
       "3           6             47.68             MASTECTOMY  Breast Cancer   \n",
       "4           8             76.97             MASTECTOMY  Breast Cancer   \n",
       "\n",
       "                        cancer_type_detailed cellularity  chemotherapy  \\\n",
       "0           Breast Invasive Ductal Carcinoma         NaN             0   \n",
       "1           Breast Invasive Ductal Carcinoma        High             0   \n",
       "2           Breast Invasive Ductal Carcinoma        High             1   \n",
       "3  Breast Mixed Ductal and Lobular Carcinoma    Moderate             1   \n",
       "4  Breast Mixed Ductal and Lobular Carcinoma        High             1   \n",
       "\n",
       "  pam50_+_claudin-low_subtype  cohort er_status_measured_by_ihc  ...  \\\n",
       "0                 claudin-low     1.0                   Positve  ...   \n",
       "1                        LumA     1.0                   Positve  ...   \n",
       "2                        LumB     1.0                   Positve  ...   \n",
       "3                        LumB     1.0                   Positve  ...   \n",
       "4                        LumB     1.0                   Positve  ...   \n",
       "\n",
       "  nottingham_prognostic_index  oncotree_code overall_survival_months  \\\n",
       "0                       6.044            IDC              140.500000   \n",
       "1                       4.020            IDC               84.633333   \n",
       "2                       4.030            IDC              163.700000   \n",
       "3                       4.050           MDLC              164.933333   \n",
       "4                       6.080           MDLC               41.366667   \n",
       "\n",
       "  overall_survival pr_status  radio_therapy 3-gene_classifier_subtype  \\\n",
       "0                1  Negative              1                 ER-/HER2-   \n",
       "1                1  Positive              1     ER+/HER2- High Prolif   \n",
       "2                0  Positive              0                       NaN   \n",
       "3                1  Positive              1                       NaN   \n",
       "4                0  Positive              1     ER+/HER2- High Prolif   \n",
       "\n",
       "  tumor_size tumor_stage  death_from_cancer  \n",
       "0       22.0         2.0             Living  \n",
       "1       10.0         1.0             Living  \n",
       "2       15.0         2.0    Died of Disease  \n",
       "3       25.0         2.0             Living  \n",
       "4       40.0         2.0    Died of Disease  \n",
       "\n",
       "[5 rows x 31 columns]"
      ]
     },
     "execution_count": 5,
     "metadata": {},
     "output_type": "execute_result"
    }
   ],
   "source": [
    "clinical_dataset.head()"
   ]
  },
  {
   "cell_type": "code",
   "execution_count": null,
   "id": "1bbdb566",
   "metadata": {},
   "outputs": [],
   "source": [
    "from sklearn import preprocessing\n"
   ]
  },
  {
   "cell_type": "code",
   "execution_count": 3,
   "id": "d3815455",
   "metadata": {},
   "outputs": [
    {
     "name": "stdout",
     "output_type": "stream",
     "text": [
      "<class 'pandas.core.frame.DataFrame'>\n",
      "RangeIndex: 1904 entries, 0 to 1903\n",
      "Data columns (total 31 columns):\n",
      " #   Column                          Non-Null Count  Dtype  \n",
      "---  ------                          --------------  -----  \n",
      " 0   patient_id                      1904 non-null   int64  \n",
      " 1   age_at_diagnosis                1904 non-null   float64\n",
      " 2   type_of_breast_surgery          1882 non-null   object \n",
      " 3   cancer_type                     1904 non-null   object \n",
      " 4   cancer_type_detailed            1889 non-null   object \n",
      " 5   cellularity                     1850 non-null   object \n",
      " 6   chemotherapy                    1904 non-null   int64  \n",
      " 7   pam50_+_claudin-low_subtype     1904 non-null   object \n",
      " 8   cohort                          1904 non-null   float64\n",
      " 9   er_status_measured_by_ihc       1874 non-null   object \n",
      " 10  er_status                       1904 non-null   object \n",
      " 11  neoplasm_histologic_grade       1832 non-null   float64\n",
      " 12  her2_status_measured_by_snp6    1904 non-null   object \n",
      " 13  her2_status                     1904 non-null   object \n",
      " 14  tumor_other_histologic_subtype  1889 non-null   object \n",
      " 15  hormone_therapy                 1904 non-null   int64  \n",
      " 16  inferred_menopausal_state       1904 non-null   object \n",
      " 17  integrative_cluster             1904 non-null   object \n",
      " 18  primary_tumor_laterality        1798 non-null   object \n",
      " 19  lymph_nodes_examined_positive   1904 non-null   float64\n",
      " 20  mutation_count                  1859 non-null   float64\n",
      " 21  nottingham_prognostic_index     1904 non-null   float64\n",
      " 22  oncotree_code                   1889 non-null   object \n",
      " 23  overall_survival_months         1904 non-null   float64\n",
      " 24  overall_survival                1904 non-null   int64  \n",
      " 25  pr_status                       1904 non-null   object \n",
      " 26  radio_therapy                   1904 non-null   int64  \n",
      " 27  3-gene_classifier_subtype       1700 non-null   object \n",
      " 28  tumor_size                      1884 non-null   float64\n",
      " 29  tumor_stage                     1403 non-null   float64\n",
      " 30  death_from_cancer               1903 non-null   object \n",
      "dtypes: float64(9), int64(5), object(17)\n",
      "memory usage: 461.2+ KB\n"
     ]
    }
   ],
   "source": [
    "clinical_dataset.info()"
   ]
  },
  {
   "cell_type": "code",
   "execution_count": 4,
   "id": "2eb9fe4c",
   "metadata": {},
   "outputs": [
    {
     "data": {
      "text/html": [
       "<div>\n",
       "<style scoped>\n",
       "    .dataframe tbody tr th:only-of-type {\n",
       "        vertical-align: middle;\n",
       "    }\n",
       "\n",
       "    .dataframe tbody tr th {\n",
       "        vertical-align: top;\n",
       "    }\n",
       "\n",
       "    .dataframe thead th {\n",
       "        text-align: right;\n",
       "    }\n",
       "</style>\n",
       "<table border=\"1\" class=\"dataframe\">\n",
       "  <thead>\n",
       "    <tr style=\"text-align: right;\">\n",
       "      <th></th>\n",
       "      <th>patient_id</th>\n",
       "      <th>age_at_diagnosis</th>\n",
       "      <th>chemotherapy</th>\n",
       "      <th>cohort</th>\n",
       "      <th>neoplasm_histologic_grade</th>\n",
       "      <th>hormone_therapy</th>\n",
       "      <th>lymph_nodes_examined_positive</th>\n",
       "      <th>mutation_count</th>\n",
       "      <th>nottingham_prognostic_index</th>\n",
       "      <th>overall_survival_months</th>\n",
       "      <th>overall_survival</th>\n",
       "      <th>radio_therapy</th>\n",
       "      <th>tumor_size</th>\n",
       "      <th>tumor_stage</th>\n",
       "    </tr>\n",
       "  </thead>\n",
       "  <tbody>\n",
       "    <tr>\n",
       "      <th>count</th>\n",
       "      <td>1904.000000</td>\n",
       "      <td>1904.000000</td>\n",
       "      <td>1904.000000</td>\n",
       "      <td>1904.000000</td>\n",
       "      <td>1832.000000</td>\n",
       "      <td>1904.000000</td>\n",
       "      <td>1904.000000</td>\n",
       "      <td>1859.000000</td>\n",
       "      <td>1904.000000</td>\n",
       "      <td>1904.000000</td>\n",
       "      <td>1904.000000</td>\n",
       "      <td>1904.000000</td>\n",
       "      <td>1884.000000</td>\n",
       "      <td>1403.000000</td>\n",
       "    </tr>\n",
       "    <tr>\n",
       "      <th>mean</th>\n",
       "      <td>3921.982143</td>\n",
       "      <td>61.087054</td>\n",
       "      <td>0.207983</td>\n",
       "      <td>2.643908</td>\n",
       "      <td>2.415939</td>\n",
       "      <td>0.616597</td>\n",
       "      <td>2.002101</td>\n",
       "      <td>5.697687</td>\n",
       "      <td>4.033019</td>\n",
       "      <td>125.121324</td>\n",
       "      <td>0.420693</td>\n",
       "      <td>0.597164</td>\n",
       "      <td>26.238726</td>\n",
       "      <td>1.750535</td>\n",
       "    </tr>\n",
       "    <tr>\n",
       "      <th>std</th>\n",
       "      <td>2358.478332</td>\n",
       "      <td>12.978711</td>\n",
       "      <td>0.405971</td>\n",
       "      <td>1.228615</td>\n",
       "      <td>0.650612</td>\n",
       "      <td>0.486343</td>\n",
       "      <td>4.079993</td>\n",
       "      <td>4.058778</td>\n",
       "      <td>1.144492</td>\n",
       "      <td>76.334148</td>\n",
       "      <td>0.493800</td>\n",
       "      <td>0.490597</td>\n",
       "      <td>15.160976</td>\n",
       "      <td>0.628999</td>\n",
       "    </tr>\n",
       "    <tr>\n",
       "      <th>min</th>\n",
       "      <td>0.000000</td>\n",
       "      <td>21.930000</td>\n",
       "      <td>0.000000</td>\n",
       "      <td>1.000000</td>\n",
       "      <td>1.000000</td>\n",
       "      <td>0.000000</td>\n",
       "      <td>0.000000</td>\n",
       "      <td>1.000000</td>\n",
       "      <td>1.000000</td>\n",
       "      <td>0.000000</td>\n",
       "      <td>0.000000</td>\n",
       "      <td>0.000000</td>\n",
       "      <td>1.000000</td>\n",
       "      <td>0.000000</td>\n",
       "    </tr>\n",
       "    <tr>\n",
       "      <th>25%</th>\n",
       "      <td>896.500000</td>\n",
       "      <td>51.375000</td>\n",
       "      <td>0.000000</td>\n",
       "      <td>1.000000</td>\n",
       "      <td>2.000000</td>\n",
       "      <td>0.000000</td>\n",
       "      <td>0.000000</td>\n",
       "      <td>3.000000</td>\n",
       "      <td>3.046000</td>\n",
       "      <td>60.825000</td>\n",
       "      <td>0.000000</td>\n",
       "      <td>0.000000</td>\n",
       "      <td>17.000000</td>\n",
       "      <td>1.000000</td>\n",
       "    </tr>\n",
       "    <tr>\n",
       "      <th>50%</th>\n",
       "      <td>4730.500000</td>\n",
       "      <td>61.770000</td>\n",
       "      <td>0.000000</td>\n",
       "      <td>3.000000</td>\n",
       "      <td>3.000000</td>\n",
       "      <td>1.000000</td>\n",
       "      <td>0.000000</td>\n",
       "      <td>5.000000</td>\n",
       "      <td>4.042000</td>\n",
       "      <td>115.616667</td>\n",
       "      <td>0.000000</td>\n",
       "      <td>1.000000</td>\n",
       "      <td>23.000000</td>\n",
       "      <td>2.000000</td>\n",
       "    </tr>\n",
       "    <tr>\n",
       "      <th>75%</th>\n",
       "      <td>5536.250000</td>\n",
       "      <td>70.592500</td>\n",
       "      <td>0.000000</td>\n",
       "      <td>3.000000</td>\n",
       "      <td>3.000000</td>\n",
       "      <td>1.000000</td>\n",
       "      <td>2.000000</td>\n",
       "      <td>7.000000</td>\n",
       "      <td>5.040250</td>\n",
       "      <td>184.716667</td>\n",
       "      <td>1.000000</td>\n",
       "      <td>1.000000</td>\n",
       "      <td>30.000000</td>\n",
       "      <td>2.000000</td>\n",
       "    </tr>\n",
       "    <tr>\n",
       "      <th>max</th>\n",
       "      <td>7299.000000</td>\n",
       "      <td>96.290000</td>\n",
       "      <td>1.000000</td>\n",
       "      <td>5.000000</td>\n",
       "      <td>3.000000</td>\n",
       "      <td>1.000000</td>\n",
       "      <td>45.000000</td>\n",
       "      <td>80.000000</td>\n",
       "      <td>6.360000</td>\n",
       "      <td>355.200000</td>\n",
       "      <td>1.000000</td>\n",
       "      <td>1.000000</td>\n",
       "      <td>182.000000</td>\n",
       "      <td>4.000000</td>\n",
       "    </tr>\n",
       "  </tbody>\n",
       "</table>\n",
       "</div>"
      ],
      "text/plain": [
       "        patient_id  age_at_diagnosis  chemotherapy       cohort  \\\n",
       "count  1904.000000       1904.000000   1904.000000  1904.000000   \n",
       "mean   3921.982143         61.087054      0.207983     2.643908   \n",
       "std    2358.478332         12.978711      0.405971     1.228615   \n",
       "min       0.000000         21.930000      0.000000     1.000000   \n",
       "25%     896.500000         51.375000      0.000000     1.000000   \n",
       "50%    4730.500000         61.770000      0.000000     3.000000   \n",
       "75%    5536.250000         70.592500      0.000000     3.000000   \n",
       "max    7299.000000         96.290000      1.000000     5.000000   \n",
       "\n",
       "       neoplasm_histologic_grade  hormone_therapy  \\\n",
       "count                1832.000000      1904.000000   \n",
       "mean                    2.415939         0.616597   \n",
       "std                     0.650612         0.486343   \n",
       "min                     1.000000         0.000000   \n",
       "25%                     2.000000         0.000000   \n",
       "50%                     3.000000         1.000000   \n",
       "75%                     3.000000         1.000000   \n",
       "max                     3.000000         1.000000   \n",
       "\n",
       "       lymph_nodes_examined_positive  mutation_count  \\\n",
       "count                    1904.000000     1859.000000   \n",
       "mean                        2.002101        5.697687   \n",
       "std                         4.079993        4.058778   \n",
       "min                         0.000000        1.000000   \n",
       "25%                         0.000000        3.000000   \n",
       "50%                         0.000000        5.000000   \n",
       "75%                         2.000000        7.000000   \n",
       "max                        45.000000       80.000000   \n",
       "\n",
       "       nottingham_prognostic_index  overall_survival_months  overall_survival  \\\n",
       "count                  1904.000000              1904.000000       1904.000000   \n",
       "mean                      4.033019               125.121324          0.420693   \n",
       "std                       1.144492                76.334148          0.493800   \n",
       "min                       1.000000                 0.000000          0.000000   \n",
       "25%                       3.046000                60.825000          0.000000   \n",
       "50%                       4.042000               115.616667          0.000000   \n",
       "75%                       5.040250               184.716667          1.000000   \n",
       "max                       6.360000               355.200000          1.000000   \n",
       "\n",
       "       radio_therapy   tumor_size  tumor_stage  \n",
       "count    1904.000000  1884.000000  1403.000000  \n",
       "mean        0.597164    26.238726     1.750535  \n",
       "std         0.490597    15.160976     0.628999  \n",
       "min         0.000000     1.000000     0.000000  \n",
       "25%         0.000000    17.000000     1.000000  \n",
       "50%         1.000000    23.000000     2.000000  \n",
       "75%         1.000000    30.000000     2.000000  \n",
       "max         1.000000   182.000000     4.000000  "
      ]
     },
     "execution_count": 4,
     "metadata": {},
     "output_type": "execute_result"
    }
   ],
   "source": [
    "clinical_dataset.describe()"
   ]
  },
  {
   "cell_type": "markdown",
   "id": "e2c3821f",
   "metadata": {},
   "source": [
    "## Dimension Reduction (20 + Up to 10 Points Optional)"
   ]
  },
  {
   "cell_type": "markdown",
   "id": "b925e2cf",
   "metadata": {},
   "source": [
    "For each dataset, investigate whether it is needed to use a dimensionality reduction approach or not. If yes, please reduce the dataset's dimension. You can use UMAP for this purpose but any other approach is acceptable. Finding the most important features contains extra points."
   ]
  },
  {
   "cell_type": "code",
   "execution_count": null,
   "id": "259a3804",
   "metadata": {},
   "outputs": [],
   "source": [
    "# TODO"
   ]
  },
  {
   "cell_type": "markdown",
   "id": "bf0ea4bb",
   "metadata": {},
   "source": [
    "# Classic Model (25 Points)"
   ]
  },
  {
   "cell_type": "markdown",
   "id": "389c5d75",
   "metadata": {},
   "source": [
    "In this section, you must implement a classic classification model for clinical, gene expressions, and reduced gene expressions datasets. Using Random Forest is suggested. (minimum acceptable accuracy = 60%)"
   ]
  },
  {
   "cell_type": "code",
   "execution_count": null,
   "id": "34ec1dd7",
   "metadata": {},
   "outputs": [],
   "source": [
    "# TODO"
   ]
  },
  {
   "cell_type": "markdown",
   "id": "50146d67",
   "metadata": {},
   "source": [
    "# Neural Network (30 Points)"
   ]
  },
  {
   "cell_type": "markdown",
   "id": "485c4047",
   "metadata": {},
   "source": [
    "In this section, you must implement a neural network model for clinical, gene expressions and reduced gene expressions datasets. Using the MPL models is suggested. (minimum acceptable accuracy = 60%)"
   ]
  },
  {
   "cell_type": "code",
   "execution_count": null,
   "id": "2992ff5a",
   "metadata": {},
   "outputs": [],
   "source": [
    "# TODO"
   ]
  },
  {
   "cell_type": "markdown",
   "id": "56877dc4",
   "metadata": {},
   "source": [
    "# Model Comparison (10 Points)"
   ]
  },
  {
   "cell_type": "markdown",
   "id": "509fe56a",
   "metadata": {},
   "source": [
    "Compare different models and different datasets (clinical, gene expressions, and gene reduced expressions) and try to explain their differences."
   ]
  },
  {
   "cell_type": "markdown",
   "id": "c2f05a73",
   "metadata": {},
   "source": [
    "#### \\# TODO"
   ]
  }
 ],
 "metadata": {
  "kernelspec": {
   "display_name": "Python 3",
   "language": "python",
   "name": "python3"
  },
  "language_info": {
   "codemirror_mode": {
    "name": "ipython",
    "version": 3
   },
   "file_extension": ".py",
   "mimetype": "text/x-python",
   "name": "python",
   "nbconvert_exporter": "python",
   "pygments_lexer": "ipython3",
   "version": "3.7.9"
  },
  "toc": {
   "base_numbering": 1,
   "nav_menu": {},
   "number_sections": true,
   "sideBar": true,
   "skip_h1_title": false,
   "title_cell": "Table of Contents",
   "title_sidebar": "Contents",
   "toc_cell": false,
   "toc_position": {},
   "toc_section_display": true,
   "toc_window_display": false
  },
  "varInspector": {
   "cols": {
    "lenName": 16,
    "lenType": 16,
    "lenVar": 40
   },
   "kernels_config": {
    "python": {
     "delete_cmd_postfix": "",
     "delete_cmd_prefix": "del ",
     "library": "var_list.py",
     "varRefreshCmd": "print(var_dic_list())"
    },
    "r": {
     "delete_cmd_postfix": ") ",
     "delete_cmd_prefix": "rm(",
     "library": "var_list.r",
     "varRefreshCmd": "cat(var_dic_list()) "
    }
   },
   "types_to_exclude": [
    "module",
    "function",
    "builtin_function_or_method",
    "instance",
    "_Feature"
   ],
   "window_display": false
  },
  "vscode": {
   "interpreter": {
    "hash": "b571288436a41f8e5c94855a4eecd39238b06ee5fe18319ed8aeb9dccd7b83dc"
   }
  }
 },
 "nbformat": 4,
 "nbformat_minor": 5
}
